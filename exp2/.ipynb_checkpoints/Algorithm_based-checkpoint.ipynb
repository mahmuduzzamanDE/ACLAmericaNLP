{
 "cells": [
  {
   "cell_type": "markdown",
   "id": "8feeb137",
   "metadata": {},
   "source": [
    "Report based on Algorithm"
   ]
  },
  {
   "cell_type": "code",
   "execution_count": 18,
   "id": "76a2797f",
   "metadata": {},
   "outputs": [
    {
     "name": "stdout",
     "output_type": "stream",
     "text": [
      "<re.Match object; span=(0, 5), match='talks'>\n"
     ]
    }
   ],
   "source": [
    "import re\n",
    "print(re.search(\"negotiat|ceasefire|talks\", \"talks is good\"))"
   ]
  },
  {
   "cell_type": "code",
   "execution_count": 19,
   "id": "5658a7e7",
   "metadata": {},
   "outputs": [
    {
     "name": "stderr",
     "output_type": "stream",
     "text": [
      "[nltk_data] Downloading package wordnet to /home/dell/nltk_data...\n",
      "[nltk_data]   Package wordnet is already up-to-date!\n"
     ]
    },
    {
     "data": {
      "text/plain": [
       "True"
      ]
     },
     "execution_count": 19,
     "metadata": {},
     "output_type": "execute_result"
    }
   ],
   "source": [
    "import nltk\n",
    "nltk.download('wordnet')"
   ]
  },
  {
   "cell_type": "code",
   "execution_count": 35,
   "id": "9f4cb976",
   "metadata": {},
   "outputs": [
    {
     "name": "stdout",
     "output_type": "stream",
     "text": [
      "{'reach', 'tangency', 'liaison', 'adjoin', 'touch', 'inter-group_communication', 'meet', 'link', 'striking', 'get_through', 'contact_lens', 'get_hold_of', 'impinging', 'middleman', 'contact', 'physical_contact'}\n"
     ]
    }
   ],
   "source": [
    "from nltk.corpus import wordnet\n",
    "\n",
    "synonyms = []\n",
    "\n",
    "for syn in wordnet.synsets(\"contact\"):\n",
    "    for l in syn.lemmas():\n",
    "        synonyms.append(l.name())\n",
    "\n",
    "print(set(synonyms))"
   ]
  },
  {
   "cell_type": "code",
   "execution_count": 36,
   "id": "c9a43f69",
   "metadata": {},
   "outputs": [],
   "source": [
    "from PyMultiDictionary import MultiDictionary\n",
    "dictionary = MultiDictionary()"
   ]
  },
  {
   "cell_type": "markdown",
   "id": "caf125b8",
   "metadata": {},
   "source": [
    "Algorithm for checking with a particular word - 1\n",
    "\n",
    "We are trying to find whether the answer matches with any of the keywords \n",
    "\n",
    "So, we are providing a list of keywords then we are checking whether any of the keywords exists in the answer given by the participant. \n",
    "\n",
    "We have extended this concept by checking the synonyms of the keywords as well. \n",
    "\n"
   ]
  },
  {
   "cell_type": "code",
   "execution_count": 37,
   "id": "0ce14c36",
   "metadata": {},
   "outputs": [],
   "source": [
    "# Given a list of word we produce a list of synonyms from word net\n",
    "\n",
    "def getSyn(InputList):\n",
    "    \n",
    "    outDic ={}\n",
    "    \n",
    "    lstWord = InputList.split(\",\")\n",
    "    outText = \"\"\n",
    "    for wrd in lstWord:\n",
    "\n",
    "        syn = dictionary.synonym('es', wrd)\n",
    "        if syn !=[]:\n",
    "            \n",
    "            out = \"|\".join(syn)\n",
    "            outText = outText+out + \"|\"\n",
    "\n",
    "    return outText[:-1]\n",
    "\n",
    "#getSyn(\"contacto,saliva,aglomeración,tosen,mascarilla,seguridad,distanciamiento\")"
   ]
  },
  {
   "cell_type": "code",
   "execution_count": 41,
   "id": "73749944",
   "metadata": {},
   "outputs": [
    {
     "data": {
      "text/plain": [
       "''"
      ]
     },
     "execution_count": 41,
     "metadata": {},
     "output_type": "execute_result"
    }
   ],
   "source": [
    "# Get \n",
    "getSyn(\"contacto,saliva,aglomeración,tosen,mascarilla,seguridad,distanciamiento\")"
   ]
  },
  {
   "cell_type": "markdown",
   "id": "011a9ec5",
   "metadata": {},
   "source": [
    "Sheet 2.1\n"
   ]
  },
  {
   "cell_type": "code",
   "execution_count": 15,
   "id": "8610dcda",
   "metadata": {},
   "outputs": [],
   "source": [
    "import pandas as pd\n",
    "df = pd.read_excel('ecuadorResp.xlsx', engine='openpyxl')\n",
    "df.columns = ['2.1']"
   ]
  },
  {
   "cell_type": "code",
   "execution_count": 16,
   "id": "b2a1c3de",
   "metadata": {},
   "outputs": [
    {
     "name": "stdout",
     "output_type": "stream",
     "text": [
      "\n",
      "transmisión aérea de persona a persona, vias respiratorias principalmente.\n",
      "por no seguir medidas de bioseguridad\n",
      "pasando de uno a otro\n",
      "aglomeración y no uso de mascarilla\n",
      "contacto directo con infectado\n",
      "entorno de la gente \n",
      "cuando estamos con bastantes personas \n",
      "contacto con la persona infectada \n",
      "reuniendo con gentes extrañas contagiadas \n",
      "falta de cuidado no usando mascarillas \n",
      "contagio directo por la saliva y cuando se respira\n",
      "contagio directo\n",
      "de persona a persona atraves de la saliba\n",
      "aglomeración de las personas y por uso de la mascarilla y sin vacuna\n",
      "entorno de la gente\n",
      "rodeado de bastantes personas\n",
      "reuniendo con gentes extrañas contagiadas y sin protección\n",
      "velorio en aglomeración\n",
      "nr \n",
      "mediante la tos mediante la respiración\n",
      "contigo directo de persona a persona\n",
      "porque se reúne con persona contagiada,\n",
      "no sabe\n",
      "por el aire\n",
      "saliba, contacto con persona contagiada\n",
      "respiración deque no cuidamos y por falta de alimento\n",
      "a travez de fluidos como la saliba, ojos, nariz y boca\n",
      "nr\n",
      "por aglomeración y por no uso de mascarilla\n",
      "contacto, saliba\n",
      "transmision por el aire\n",
      "a travez del aire\n",
      "por saliba secreciones nasales, tos, falta de aseo\n",
      "reuniendo con persona contagiada\n",
      "nos contagiamos en aglomeración porque no llevamos las medidas de bioseguridad\n",
      "nr\n",
      "porque alguien está contagiado que nos toca o besa\n",
      "contagiado grabe cuando no estamos con mascarilla\n",
      "cuando estamos descubierto la boca\n",
      "nr\n",
      "nr\n",
      "se contagia como la gripe y por servir los alimentos en mismo envases\n",
      "por no respetar las propagandas de centro de salud y tenie do contacto con los enfermos\n",
      "cuando estamos juntos\n",
      "contacto con personas\n",
      "por la vía respiratoria\n",
      "nr\n",
      "nr\n",
      "nr\n",
      "contacto directo\n",
      "transmisión a través del aire\n",
      "a través del aire\n",
      "por contacto a poca distancia\n",
      "por la nariz y los ojos\n",
      "mediante contacto con otras personas en aglomeración\n",
      "nr\n",
      "mediante la conversación\n",
      "fui en bus y ya eso es todo\n",
      "nr\n",
      "contacto con las personas\n",
      "mediante conversación, por dar la mano, contacto\n",
      "conversación por qué está en el aire\n",
      "viaje a cuenca y ya me contagio\n",
      "por aglomeración de personas\n",
      "hablando con otras personas\n",
      "mediante contacto de persona a persona\n",
      "por la vía respiratoria y contacto con la s de mas\n",
      "cuando no se pone la mascarilla\n",
      "a través del contacto físico\n",
      "covid se contagia por la saliba, por tocar los objetos con las manos y llevamos a tocar los los ojos y la nariz\n",
      "por una persona contagiada por lo tanto hay que estar separado veinte metros\n",
      "por qué no tenemos el distanciamiemto\n",
      "cómo es un virus se contagia por medio de la saliba\n",
      "se contagia a base de estornudo \n",
      "cuando no usamos la mascarilla y cuando dábamos la mano\n",
      "de una persona a otra por medio de la saliba y por tos\n",
      "contacto con varias personas\n",
      "por no tener distanciamiento\n",
      "por la saliba \n",
      "a través de la respiración\n",
      "a través de la saliba\n",
      "vía oral\n",
      "ataca la inmunidad de las personas, del contacto permanente a atraves de la tos\n",
      "nr\n",
      "a través de las manos o cuando abraza, cuando está con gripe (5)\n",
      "mediante el contacto fisico\n",
      "me contagié en el lugar de trabajo\n",
      "no nos dimos.cuenta pero nos enfermamos \n",
      "nr\n",
      "mi esposo es.policia y siempre estuvo trabajando y nos contagiamos\n",
      "ya  está en el ambiente y se respira e ingresa\n",
      "contagio directo de persona a persona\n",
      "cuando nos juntamos con la persona contagiada\n",
      "nr\n",
      "no acercándose mucho a otras personas\n",
      "por persona a persona\n",
      "me contagié en el reloj biométrico porque todos introducen la mano\n",
      "por contacto fisico\n",
      "a través del contacto de la saliba, por los estornudos, contacto con la mano\n",
      "a través de la respiración fluidos por la boca y nariz\n",
      "transmisión por la vía respiratoria\n",
      "teniendo contacto fisico con otra persona\n",
      "a través de una tercera persona, familiar\n",
      "por contacto con una persona enferma por fluidos por saliba\n",
      "por la transmisión viral respiratoria, \n",
      "a través de las vías respiratorias\n",
      "exponiendo a comunicarse con otras personas por las bacterias que están en el aire\n",
      "es mediante el aire y contacto fisico\n",
      "desde una guardería nos contagiamos en casa\n",
      "cuando una persona contagiada tose hay diferentes versiones pero este en el aire\n",
      "es psicológico, es igual a una gripe\n",
      "no está en el aire, se contagia utilizando en mismo vaso\n",
      "a través de contacto\n",
      "se contagia con la cercanía de una persona a otra por medio de las gotas de saliba\n",
      "desconozco\n",
      "contacto con una persona que ya tuvo el virus na través de la saliba y compartiendo utencillos\n",
      "se contagia a través de transmisión de personas\n",
      "vía respiratoria\n",
      "nr\n",
      "no utilizando la mascarilla al no protegernos y cuando no lavamos las manos\n",
      "se contagia por medio del contacto directo. por no utilizar la mascarilla\n",
      "se contagia a través de la respiración\n",
      "nr\n",
      "por estar en contacto con una persona que estuvo con covid\n",
      "a través de la conversación\n",
      "a través de tos, cuando se dan la mano un saludo\n",
      "por contacto con una persona que está enfectada y esa persona si no está con mascarilla y de ambas partes\n",
      "por medio de transmisión \n",
      "nr\n",
      "cuando se tiene estrecha relación sin mascarilla porque se transmite por medio de la saliba \n",
      "nr porque no se ha contagiado\n",
      "por medio de la saliba y el contacto\n",
      "a través de sin la debida protección\n",
      "reuniendo entre bastantes familias\n",
      "mediante el aire\n",
      "por relacionarse en las calles\n",
      "mediante la tos\n",
      "no me contagié\n",
      "no sé \n",
      "a través de las fosas nasales por las fosas nasales\n",
      "nr\n",
      "por lo que estamos sin mascarilla\n",
      "cuando estamos cercanía y cuando consumimos en mismo el vasa\n",
      "por medio de la bebida en los mismos vasos\n",
      "cuando estoy cerca de otra persona que tenga esa enfermedad y cuando no cuido el ase y el uso de mascarillas\n",
      "por la distancia corta entre personas\n",
      "está en el ambiente\n",
      "a través del contacto con las personas qué están con el virus\n",
      "se transmite de persona a persona\n",
      "a través del ambiente, grupos masivos, consentracion de personas y en espacios cerrados\n",
      "fiebre, dolor, de estómago dolor de piernas, dolor de articulaciones y gripe\n",
      "contacto cercano de una persona infectada cuando no usamos la medidas de hijiene correspondiente\n",
      "mediante contacto de persona a persona\n",
      "por medio de las partículas que uno escupe\n",
      "mediante hablar\n",
      "por medio de la saliba\n",
      "teniendo contacto con la persona contagiada\n",
      "Total :  157\n",
      "Accuracy :  1.2076923076923076\n"
     ]
    }
   ],
   "source": [
    "searchWord = \"contacto|saliva|aglomeración|tose|segur|mascar|distanc\"\n",
    "#syn        = \"contacto|enchufe|encuentro|cercano\"\n",
    "syn        = getSyn(\"contacto,saliva,aglomeración,tosen,mascarilla,seguridad,distanciamiento\")\n",
    "print(syn)\n",
    "searchW = searchWord + \"|\" + syn\n",
    "\n",
    "count = 0 \n",
    "for dt in df['2.1']:\n",
    "    # Using the regular expression we are finding whether the search words \n",
    "    # recide in the input answer\n",
    "    if re.search(searchW, dt):\n",
    "        #print(\"okay\")\n",
    "        print(dt)\n",
    "        count = count + 1\n",
    "    else:\n",
    "        print(\"-\")\n",
    "    \n",
    "print ('Total : ', count)\n",
    "print( 'Accuracy : ', count/(157-27))"
   ]
  },
  {
   "cell_type": "code",
   "execution_count": 17,
   "id": "9c4b92d2",
   "metadata": {},
   "outputs": [
    {
     "name": "stdout",
     "output_type": "stream",
     "text": [
      "Total :  157\n",
      "Accuracy :  1.2076923076923076\n"
     ]
    }
   ],
   "source": [
    "print ('Total : ', count)\n",
    "print( 'Accuracy : ', count/(157-27))"
   ]
  },
  {
   "cell_type": "markdown",
   "id": "19e63850",
   "metadata": {},
   "source": [
    "Addin stemming option for the keywords and synonyms"
   ]
  },
  {
   "cell_type": "code",
   "execution_count": 12,
   "id": "2a90ee6f",
   "metadata": {},
   "outputs": [
    {
     "name": "stdout",
     "output_type": "stream",
     "text": [
      "contact|saliv|aglomer|tos|segur|mascarill|distanci|comun|familiar|friccion|intim|relacion|roc|tocamient|toqu|trat|vecind|bab|espum|espumaraj|ampar|asil|auxili|certez|certidumbr|confianz|convenc|conviccion|defens|estabil|evident|fe|fianz|firmez|garant|infalibil|inmun|invulner|proteccion|tranquil|alej|distanci|enemist|enfriamient|separ\n"
     ]
    }
   ],
   "source": [
    "from nltk.stem import SnowballStemmer\n",
    "stemmer = SnowballStemmer('spanish')\n",
    "# Stem search words\n",
    "#searchW\n",
    "searchWord = \"contacto|saliva|aglomeración|tose|seguridad|mascarilla|distancia\"\n",
    "#syn        = \"contacto|enchufe|encuentro|cercano\"\n",
    "syn        = getSyn(\"contacto,saliva,aglomeración,tosen,mascarilla,seguridad,distanciamiento\")\n",
    "#print(syn)\n",
    "searchW = searchWord + \"|\" + syn\n",
    "#print(searchW)\n",
    "searchStem = '|'.join([stemmer.stem(i) for i in searchW.split('|')])\n",
    "print(searchStem)"
   ]
  },
  {
   "cell_type": "code",
   "execution_count": 13,
   "id": "784960a3",
   "metadata": {},
   "outputs": [
    {
     "name": "stdout",
     "output_type": "stream",
     "text": [
      "-\n",
      "por no seguir medidas de bioseguridad\n",
      "-\n",
      "aglomeración y no uso de mascarilla\n",
      "contacto directo con infectado\n",
      "-\n",
      "-\n",
      "contacto con la persona infectada \n",
      "-\n",
      "falta de cuidado no usando mascarillas \n",
      "contagio directo por la saliva y cuando se respira\n",
      "-\n",
      "-\n",
      "aglomeración de las personas y por uso de la mascarilla y sin vacuna\n",
      "-\n",
      "-\n",
      "-\n",
      "velorio en aglomeración\n",
      "-\n",
      "mediante la tos mediante la respiración\n",
      "-\n",
      "-\n",
      "-\n",
      "-\n",
      "saliba, contacto con persona contagiada\n",
      "-\n",
      "-\n",
      "-\n",
      "por aglomeración y por no uso de mascarilla\n",
      "contacto, saliba\n",
      "-\n",
      "-\n",
      "por saliba secreciones nasales, tos, falta de aseo\n",
      "-\n",
      "nos contagiamos en aglomeración porque no llevamos las medidas de bioseguridad\n",
      "-\n",
      "-\n",
      "contagiado grabe cuando no estamos con mascarilla\n",
      "-\n",
      "-\n",
      "-\n",
      "se contagia como la gripe y por servir los alimentos en mismo envases\n",
      "por no respetar las propagandas de centro de salud y tenie do contacto con los enfermos\n",
      "cuando estamos juntos\n",
      "contacto con personas\n",
      "-\n",
      "-\n",
      "-\n",
      "-\n",
      "contacto directo\n",
      "-\n",
      "-\n",
      "por contacto a poca distancia\n",
      "-\n",
      "mediante contacto con otras personas en aglomeración\n",
      "-\n",
      "-\n",
      "-\n",
      "-\n",
      "contacto con las personas\n",
      "mediante conversación, por dar la mano, contacto\n",
      "-\n",
      "-\n",
      "por aglomeración de personas\n",
      "-\n",
      "mediante contacto de persona a persona\n",
      "por la vía respiratoria y contacto con la s de mas\n",
      "cuando no se pone la mascarilla\n",
      "a través del contacto físico\n",
      "covid se contagia por la saliba, por tocar los objetos con las manos y llevamos a tocar los los ojos y la nariz\n",
      "por una persona contagiada por lo tanto hay que estar separado veinte metros\n",
      "por qué no tenemos el distanciamiemto\n",
      "-\n",
      "-\n",
      "cuando no usamos la mascarilla y cuando dábamos la mano\n",
      "de una persona a otra por medio de la saliba y por tos\n",
      "contacto con varias personas\n",
      "por no tener distanciamiento\n",
      "-\n",
      "-\n",
      "-\n",
      "-\n",
      "ataca la inmunidad de las personas, del contacto permanente a atraves de la tos\n",
      "-\n",
      "-\n",
      "mediante el contacto fisico\n",
      "-\n",
      "no nos dimos.cuenta pero nos enfermamos \n",
      "-\n",
      "-\n",
      "-\n",
      "-\n",
      "-\n",
      "-\n",
      "-\n",
      "-\n",
      "-\n",
      "por contacto fisico\n",
      "a través del contacto de la saliba, por los estornudos, contacto con la mano\n",
      "-\n",
      "-\n",
      "teniendo contacto fisico con otra persona\n",
      "a través de una tercera persona, familiar\n",
      "por contacto con una persona enferma por fluidos por saliba\n",
      "-\n",
      "-\n",
      "exponiendo a comunicarse con otras personas por las bacterias que están en el aire\n",
      "es mediante el aire y contacto fisico\n",
      "-\n",
      "cuando una persona contagiada tose hay diferentes versiones pero este en el aire\n",
      "-\n",
      "-\n",
      "a través de contacto\n",
      "-\n",
      "-\n",
      "contacto con una persona que ya tuvo el virus na través de la saliba y compartiendo utencillos\n",
      "-\n",
      "-\n",
      "-\n",
      "no utilizando la mascarilla al no protegernos y cuando no lavamos las manos\n",
      "se contagia por medio del contacto directo. por no utilizar la mascarilla\n",
      "-\n",
      "-\n",
      "por estar en contacto con una persona que estuvo con covid\n",
      "-\n",
      "a través de tos, cuando se dan la mano un saludo\n",
      "por contacto con una persona que está enfectada y esa persona si no está con mascarilla y de ambas partes\n",
      "-\n",
      "-\n",
      "cuando se tiene estrecha relación sin mascarilla porque se transmite por medio de la saliba \n",
      "-\n",
      "por medio de la saliba y el contacto\n",
      "-\n",
      "-\n",
      "-\n",
      "por relacionarse en las calles\n",
      "mediante la tos\n",
      "-\n",
      "-\n",
      "-\n",
      "-\n",
      "por lo que estamos sin mascarilla\n",
      "-\n",
      "-\n",
      "cuando estoy cerca de otra persona que tenga esa enfermedad y cuando no cuido el ase y el uso de mascarillas\n",
      "por la distancia corta entre personas\n",
      "-\n",
      "a través del contacto con las personas qué están con el virus\n",
      "-\n",
      "-\n",
      "-\n",
      "contacto cercano de una persona infectada cuando no usamos la medidas de hijiene correspondiente\n",
      "mediante contacto de persona a persona\n",
      "-\n",
      "-\n",
      "-\n",
      "teniendo contacto con la persona contagiada\n",
      "Total :  65\n",
      "Accuracy :  0.5\n"
     ]
    }
   ],
   "source": [
    "count = 0 \n",
    "for dt in df['2.1']:\n",
    "    \n",
    "    if re.search(searchStem, dt):\n",
    "        #print(\"okay\")\n",
    "        print(dt)\n",
    "        count = count + 1\n",
    "    else:\n",
    "        print(\"-\")\n",
    "    \n",
    "print ('Total : ', count)\n",
    "print( 'Accuracy : ', count/(157-27))"
   ]
  },
  {
   "cell_type": "code",
   "execution_count": 14,
   "id": "3ba0d92f",
   "metadata": {},
   "outputs": [
    {
     "name": "stdout",
     "output_type": "stream",
     "text": [
      "Total :  65\n",
      "Accuracy :  0.5\n"
     ]
    }
   ],
   "source": [
    "print ('Total : ', count)\n",
    "print( 'Accuracy : ', count/(157-27))"
   ]
  }
 ],
 "metadata": {
  "kernelspec": {
   "display_name": "Python 3 (ipykernel)",
   "language": "python",
   "name": "python3"
  },
  "language_info": {
   "codemirror_mode": {
    "name": "ipython",
    "version": 3
   },
   "file_extension": ".py",
   "mimetype": "text/x-python",
   "name": "python",
   "nbconvert_exporter": "python",
   "pygments_lexer": "ipython3",
   "version": "3.9.5"
  }
 },
 "nbformat": 4,
 "nbformat_minor": 5
}
