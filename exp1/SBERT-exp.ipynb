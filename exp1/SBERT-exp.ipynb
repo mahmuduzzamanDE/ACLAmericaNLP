{
 "cells": [
  {
   "cell_type": "markdown",
   "id": "dbe20d16",
   "metadata": {},
   "source": [
    "# Read CSV in pandas "
   ]
  },
  {
   "cell_type": "code",
   "execution_count": 1,
   "id": "5be1df75",
   "metadata": {},
   "outputs": [],
   "source": [
    "import pandas as pd\n",
    "pd.set_option('display.max_colwidth', None)"
   ]
  },
  {
   "cell_type": "code",
   "execution_count": 2,
   "id": "df796859",
   "metadata": {},
   "outputs": [],
   "source": [
    "qs_df = pd.read_csv('questions_survey_en.csv')"
   ]
  },
  {
   "cell_type": "code",
   "execution_count": 3,
   "id": "16bfe02e",
   "metadata": {},
   "outputs": [
    {
     "data": {
      "text/html": [
       "<div>\n",
       "<style scoped>\n",
       "    .dataframe tbody tr th:only-of-type {\n",
       "        vertical-align: middle;\n",
       "    }\n",
       "\n",
       "    .dataframe tbody tr th {\n",
       "        vertical-align: top;\n",
       "    }\n",
       "\n",
       "    .dataframe thead th {\n",
       "        text-align: right;\n",
       "    }\n",
       "</style>\n",
       "<table border=\"1\" class=\"dataframe\">\n",
       "  <thead>\n",
       "    <tr style=\"text-align: right;\">\n",
       "      <th></th>\n",
       "      <th>Common Symptoms</th>\n",
       "      <th>Discomfort while vaccinate</th>\n",
       "      <th>How is COVID 19 transmitted to people?</th>\n",
       "      <th>How mask help</th>\n",
       "      <th>Reuse mask</th>\n",
       "      <th>Time get infected</th>\n",
       "      <th>What is vaccination</th>\n",
       "      <th>when mask</th>\n",
       "      <th>when medical attention</th>\n",
       "      <th>why not vaccinate</th>\n",
       "      <th>why recommend vaccine</th>\n",
       "    </tr>\n",
       "  </thead>\n",
       "  <tbody>\n",
       "    <tr>\n",
       "      <th>0</th>\n",
       "      <td>4. What are the common symptoms of COVID-19?</td>\n",
       "      <td>19. Have you had any discomfort after vaccination?</td>\n",
       "      <td>1. How is COVID 19 passed or transmitted to people?</td>\n",
       "      <td>10. How do masks help to avoid getting sick with COVID 19?</td>\n",
       "      <td>11. Is it possible to reuse the masks?</td>\n",
       "      <td>3. How long does it take between contact with a patient and the appearance of COVID-19 symptoms?</td>\n",
       "      <td>16. What is vaccination?</td>\n",
       "      <td>8. When should a mask be used?</td>\n",
       "      <td>6. When should medical attention be sought for a person suspected of being infected with COVID-19?</td>\n",
       "      <td>17. For what reasons should or should not people be vaccinated?</td>\n",
       "      <td>20.1. If you recommend vaccination or not, why or why not?</td>\n",
       "    </tr>\n",
       "  </tbody>\n",
       "</table>\n",
       "</div>"
      ],
      "text/plain": [
       "                                Common Symptoms  \\\n",
       "0  4. What are the common symptoms of COVID-19?   \n",
       "\n",
       "                           Discomfort while vaccinate  \\\n",
       "0  19. Have you had any discomfort after vaccination?   \n",
       "\n",
       "                 How is COVID 19 transmitted to people?  \\\n",
       "0  1. How is COVID 19 passed or transmitted to people?    \n",
       "\n",
       "                                                How mask help  \\\n",
       "0  10. How do masks help to avoid getting sick with COVID 19?   \n",
       "\n",
       "                               Reuse mask  \\\n",
       "0  11. Is it possible to reuse the masks?   \n",
       "\n",
       "                                                                                   Time get infected  \\\n",
       "0  3. How long does it take between contact with a patient and the appearance of COVID-19 symptoms?    \n",
       "\n",
       "        What is vaccination                        when mask  \\\n",
       "0  16. What is vaccination?  8. When should a mask be used?    \n",
       "\n",
       "                                                                                when medical attention  \\\n",
       "0  6. When should medical attention be sought for a person suspected of being infected with COVID-19?    \n",
       "\n",
       "                                                  why not vaccinate  \\\n",
       "0  17. For what reasons should or should not people be vaccinated?    \n",
       "\n",
       "                                        why recommend vaccine  \n",
       "0  20.1. If you recommend vaccination or not, why or why not?  "
      ]
     },
     "execution_count": 3,
     "metadata": {},
     "output_type": "execute_result"
    }
   ],
   "source": [
    "qs_df"
   ]
  },
  {
   "cell_type": "code",
   "execution_count": 4,
   "id": "f102d39f",
   "metadata": {},
   "outputs": [],
   "source": [
    "np_qs_df  = qs_df.values\n",
    "np_qs_df = np_qs_df[0]"
   ]
  },
  {
   "cell_type": "code",
   "execution_count": 5,
   "id": "c9dc0763",
   "metadata": {},
   "outputs": [
    {
     "data": {
      "text/plain": [
       "array(['4. What are the common symptoms of COVID-19?',\n",
       "       '19. Have you had any discomfort after vaccination?',\n",
       "       '1. How is COVID 19 passed or transmitted to people? ',\n",
       "       '10. How do masks help to avoid getting sick with COVID 19?',\n",
       "       '11. Is it possible to reuse the masks?',\n",
       "       '3. How long does it take between contact with a patient and the appearance of COVID-19 symptoms? ',\n",
       "       '16. What is vaccination?', '8. When should a mask be used? ',\n",
       "       '6. When should medical attention be sought for a person suspected of being infected with COVID-19? ',\n",
       "       '17. For what reasons should or should not people be vaccinated? ',\n",
       "       '20.1. If you recommend vaccination or not, why or why not?'],\n",
       "      dtype=object)"
      ]
     },
     "execution_count": 5,
     "metadata": {},
     "output_type": "execute_result"
    }
   ],
   "source": [
    "np_qs_df"
   ]
  },
  {
   "cell_type": "markdown",
   "id": "ea4cd6f0",
   "metadata": {},
   "source": [
    "# Reading the reference text"
   ]
  },
  {
   "cell_type": "code",
   "execution_count": 6,
   "id": "b0e8ded7",
   "metadata": {},
   "outputs": [],
   "source": [
    "# Reference corpus\n",
    "ref_df = pd.read_csv('ref.csv')"
   ]
  },
  {
   "cell_type": "code",
   "execution_count": 7,
   "id": "53fe586e",
   "metadata": {},
   "outputs": [
    {
     "data": {
      "text/html": [
       "<div>\n",
       "<style scoped>\n",
       "    .dataframe tbody tr th:only-of-type {\n",
       "        vertical-align: middle;\n",
       "    }\n",
       "\n",
       "    .dataframe tbody tr th {\n",
       "        vertical-align: top;\n",
       "    }\n",
       "\n",
       "    .dataframe thead th {\n",
       "        text-align: right;\n",
       "    }\n",
       "</style>\n",
       "<table border=\"1\" class=\"dataframe\">\n",
       "  <thead>\n",
       "    <tr style=\"text-align: right;\">\n",
       "      <th></th>\n",
       "      <th>Common Symptoms</th>\n",
       "      <th>Discomfort while vaccinate</th>\n",
       "      <th>How is COVID 19 transmitted to people?</th>\n",
       "      <th>How mask help</th>\n",
       "      <th>Reuse mask</th>\n",
       "      <th>Time get infected</th>\n",
       "      <th>What is vaccination</th>\n",
       "      <th>when mask</th>\n",
       "      <th>when medical attention</th>\n",
       "      <th>why not vaccinate</th>\n",
       "      <th>why recommend vaccine</th>\n",
       "    </tr>\n",
       "  </thead>\n",
       "  <tbody>\n",
       "    <tr>\n",
       "      <th>0</th>\n",
       "      <td>Headache General weakness Cough Loss of smell and taste Vomiting Difficulty breathing</td>\n",
       "      <td>fever and muscle pain</td>\n",
       "      <td>It is transmitted by respiratory droplets that contain the virus.</td>\n",
       "      <td>They prevent transmission to a certain extent if we have the virus by blocking a good part of the particles that we emit that may contain the virus. If one does not have the virus, it helps to avoid the entry of similar particles to the mouth or nose.</td>\n",
       "      <td>Yes it is possible but only to a certain extent depending on the type of mask for a limited time, but it is not advisable.</td>\n",
       "      <td>The incubation period ranges from 1 to 14 days. The most common is that it is 5-6 days, and in some rare cases it has been reported that it is longer than 14 days.</td>\n",
       "      <td>It is the process of acquired immunization, defense antibodies against the virus.</td>\n",
       "      <td>Especially in closed public places, but it is also useful in outdoor public places.</td>\n",
       "      <td>If symptoms such as shortness of breath or lack of oxygenation occur</td>\n",
       "      <td>The two main reasons to get vaccinated are to protect ourselves and to protect those around us. Because not everyone can get vaccinated, including very young babies, those who are seriously ill, or have certain allergies. They depend on others being vaccinated to make sure they too are safe from vaccine-preventable diseases.</td>\n",
       "      <td>It is the only effective way to stop pandemics.</td>\n",
       "    </tr>\n",
       "  </tbody>\n",
       "</table>\n",
       "</div>"
      ],
      "text/plain": [
       "                                                                         Common Symptoms  \\\n",
       "0  Headache General weakness Cough Loss of smell and taste Vomiting Difficulty breathing   \n",
       "\n",
       "  Discomfort while vaccinate  \\\n",
       "0      fever and muscle pain   \n",
       "\n",
       "                               How is COVID 19 transmitted to people?  \\\n",
       "0  It is transmitted by respiratory droplets that contain the virus.    \n",
       "\n",
       "                                                                                                                                                                                                                                                  How mask help  \\\n",
       "0  They prevent transmission to a certain extent if we have the virus by blocking a good part of the particles that we emit that may contain the virus. If one does not have the virus, it helps to avoid the entry of similar particles to the mouth or nose.    \n",
       "\n",
       "                                                                                                                   Reuse mask  \\\n",
       "0  Yes it is possible but only to a certain extent depending on the type of mask for a limited time, but it is not advisable.   \n",
       "\n",
       "                                                                                                                                                     Time get infected  \\\n",
       "0  The incubation period ranges from 1 to 14 days. The most common is that it is 5-6 days, and in some rare cases it has been reported that it is longer than 14 days.   \n",
       "\n",
       "                                                                 What is vaccination  \\\n",
       "0  It is the process of acquired immunization, defense antibodies against the virus.   \n",
       "\n",
       "                                                                             when mask  \\\n",
       "0  Especially in closed public places, but it is also useful in outdoor public places.   \n",
       "\n",
       "                                                 when medical attention  \\\n",
       "0  If symptoms such as shortness of breath or lack of oxygenation occur   \n",
       "\n",
       "                                                                                                                                                                                                                                                                                                                        why not vaccinate  \\\n",
       "0  The two main reasons to get vaccinated are to protect ourselves and to protect those around us. Because not everyone can get vaccinated, including very young babies, those who are seriously ill, or have certain allergies. They depend on others being vaccinated to make sure they too are safe from vaccine-preventable diseases.   \n",
       "\n",
       "                             why recommend vaccine  \n",
       "0  It is the only effective way to stop pandemics.  "
      ]
     },
     "execution_count": 7,
     "metadata": {},
     "output_type": "execute_result"
    }
   ],
   "source": [
    "ref_df"
   ]
  },
  {
   "cell_type": "code",
   "execution_count": 8,
   "id": "85602a55",
   "metadata": {},
   "outputs": [],
   "source": [
    "np_ref_df  = ref_df.values\n",
    "np_ref_df = np_ref_df[0]"
   ]
  },
  {
   "cell_type": "code",
   "execution_count": 9,
   "id": "0d1c152a",
   "metadata": {},
   "outputs": [
    {
     "data": {
      "text/plain": [
       "11"
      ]
     },
     "execution_count": 9,
     "metadata": {},
     "output_type": "execute_result"
    }
   ],
   "source": [
    "len(np_ref_df)"
   ]
  },
  {
   "cell_type": "code",
   "execution_count": 10,
   "id": "8e891a25",
   "metadata": {},
   "outputs": [
    {
     "data": {
      "text/plain": [
       "array(['Headache General weakness Cough Loss of smell and taste Vomiting Difficulty breathing',\n",
       "       'fever and muscle pain',\n",
       "       'It is transmitted by respiratory droplets that contain the virus. ',\n",
       "       'They prevent transmission to a certain extent if we have the virus by blocking a good part of the particles that we emit that may contain the virus. If one does not have the virus, it helps to avoid the entry of similar particles to the mouth or nose. ',\n",
       "       'Yes it is possible but only to a certain extent depending on the type of mask for a limited time, but it is not advisable.',\n",
       "       'The incubation period ranges from 1 to 14 days. The most common is that it is 5-6 days, and in some rare cases it has been reported that it is longer than 14 days.',\n",
       "       'It is the process of acquired immunization, defense antibodies against the virus.',\n",
       "       'Especially in closed public places, but it is also useful in outdoor public places.',\n",
       "       'If symptoms such as shortness of breath or lack of oxygenation occur',\n",
       "       'The two main reasons to get vaccinated are to protect ourselves and to protect those around us. Because not everyone can get vaccinated, including very young babies, those who are seriously ill, or have certain allergies. They depend on others being vaccinated to make sure they too are safe from vaccine-preventable diseases.',\n",
       "       'It is the only effective way to stop pandemics.'], dtype=object)"
      ]
     },
     "execution_count": 10,
     "metadata": {},
     "output_type": "execute_result"
    }
   ],
   "source": [
    "np_ref_df"
   ]
  },
  {
   "cell_type": "code",
   "execution_count": 11,
   "id": "68f885f3",
   "metadata": {},
   "outputs": [
    {
     "data": {
      "text/plain": [
       "[['Headache General weakness Cough Loss of smell and taste Vomiting Difficulty breathing'],\n",
       " ['fever and muscle pain'],\n",
       " ['It is transmitted by respiratory droplets that contain the virus.'],\n",
       " ['They prevent transmission to a certain extent if we have the virus by blocking a good part of the particles that we emit that may contain the virus.',\n",
       "  'If one does not have the virus, it helps to avoid the entry of similar particles to the mouth or nose.'],\n",
       " ['Yes it is possible but only to a certain extent depending on the type of mask for a limited time, but it is not advisable.'],\n",
       " ['The incubation period ranges from 1 to 14 days.',\n",
       "  'The most common is that it is 5-6 days, and in some rare cases it has been reported that it is longer than 14 days.'],\n",
       " ['It is the process of acquired immunization, defense antibodies against the virus.'],\n",
       " ['Especially in closed public places, but it is also useful in outdoor public places.'],\n",
       " ['If symptoms such as shortness of breath or lack of oxygenation occur'],\n",
       " ['The two main reasons to get vaccinated are to protect ourselves and to protect those around us.',\n",
       "  'Because not everyone can get vaccinated, including very young babies, those who are seriously ill, or have certain allergies.',\n",
       "  'They depend on others being vaccinated to make sure they too are safe from vaccine-preventable diseases.'],\n",
       " ['It is the only effective way to stop pandemics.']]"
      ]
     },
     "execution_count": 11,
     "metadata": {},
     "output_type": "execute_result"
    }
   ],
   "source": [
    "# reading the reference text \n",
    "# Tokenize into sentences\n",
    "# Putting into array of arrays\n",
    "from nltk.tokenize import sent_tokenize\n",
    "rf_df_sentences=[]\n",
    "\n",
    "for col in ref_df.columns:\n",
    "    \n",
    "    sent = ref_df[col][0]\n",
    "    sentences = sent_tokenize(sent)\n",
    "    rf_df_sentences.append(sentences)\n",
    "    \n",
    "\n",
    "rf_df_sentences"
   ]
  },
  {
   "cell_type": "markdown",
   "id": "58a5c919",
   "metadata": {},
   "source": [
    "# Reading the Surveys"
   ]
  },
  {
   "cell_type": "code",
   "execution_count": 12,
   "id": "d0d77192",
   "metadata": {},
   "outputs": [
    {
     "data": {
      "text/html": [
       "<div>\n",
       "<style scoped>\n",
       "    .dataframe tbody tr th:only-of-type {\n",
       "        vertical-align: middle;\n",
       "    }\n",
       "\n",
       "    .dataframe tbody tr th {\n",
       "        vertical-align: top;\n",
       "    }\n",
       "\n",
       "    .dataframe thead th {\n",
       "        text-align: right;\n",
       "    }\n",
       "</style>\n",
       "<table border=\"1\" class=\"dataframe\">\n",
       "  <thead>\n",
       "    <tr style=\"text-align: right;\">\n",
       "      <th></th>\n",
       "      <th>Common Symptoms</th>\n",
       "      <th>Discomfort while vaccinate</th>\n",
       "      <th>How is COVID 19 transmitted to people?</th>\n",
       "      <th>How mask help</th>\n",
       "      <th>Reuse mask</th>\n",
       "      <th>Time get infected</th>\n",
       "      <th>What is vaccination</th>\n",
       "      <th>when mask</th>\n",
       "      <th>when medical attention</th>\n",
       "      <th>why not vaccinate</th>\n",
       "      <th>why recommend vaccine</th>\n",
       "    </tr>\n",
       "  </thead>\n",
       "  <tbody>\n",
       "    <tr>\n",
       "      <th>0</th>\n",
       "      <td>COMMON SYMPTOMS Fever Cough General malaise Loss of taste or smell UN COMMON SYMPTOMS: Sore throat Headache Diarrhea Skin rash Irritated eyes SYMPTOMS - COMPLICATIONS: Difficulty breathing or dyspnea Lethargy Chest pain</td>\n",
       "      <td>Yes, general malaise for 1 night .</td>\n",
       "      <td>Direct contact, transmission by air and by droplets.</td>\n",
       "      <td>Avoiding transmission by direct contact, transmission by air and by droplets</td>\n",
       "      <td>The use of a mask depends on the individual's site of exposure, preferably they should be use surgical masks or disposable KN95.</td>\n",
       "      <td>A range of 5 to 10 days with a common average of 7 days.</td>\n",
       "      <td>Immunization is the process by which a person becomes immune or resistant to an infectious disease, usually through the administration of a vaccine. Vaccines stimulate the body's own immune system to protect the person against infection or disease. later. WHO</td>\n",
       "      <td>Whenever we are in contact with another person.</td>\n",
       "      <td>Medical attention should be sought according to the symptoms in the different levels of health care.</td>\n",
       "      <td>They must be vaccinated since it is one of the most effective procedures for the prevention of infectious diseases.</td>\n",
       "      <td>It is one of the most effective procedures for the prevention of infectious diseases, such as COVID-19</td>\n",
       "    </tr>\n",
       "  </tbody>\n",
       "</table>\n",
       "</div>"
      ],
      "text/plain": [
       "                                                                                                                                                                                                               Common Symptoms  \\\n",
       "0  COMMON SYMPTOMS Fever Cough General malaise Loss of taste or smell UN COMMON SYMPTOMS: Sore throat Headache Diarrhea Skin rash Irritated eyes SYMPTOMS - COMPLICATIONS: Difficulty breathing or dyspnea Lethargy Chest pain   \n",
       "\n",
       "            Discomfort while vaccinate  \\\n",
       "0  Yes, general malaise for 1 night .    \n",
       "\n",
       "                   How is COVID 19 transmitted to people?  \\\n",
       "0   Direct contact, transmission by air and by droplets.    \n",
       "\n",
       "                                                                    How mask help  \\\n",
       "0   Avoiding transmission by direct contact, transmission by air and by droplets    \n",
       "\n",
       "                                                                                                                           Reuse mask  \\\n",
       "0   The use of a mask depends on the individual's site of exposure, preferably they should be use surgical masks or disposable KN95.    \n",
       "\n",
       "                                           Time get infected  \\\n",
       "0  A range of 5 to 10 days with a common average of 7 days.    \n",
       "\n",
       "                                                                                                                                                                                                                                                    What is vaccination  \\\n",
       "0  Immunization is the process by which a person becomes immune or resistant to an infectious disease, usually through the administration of a vaccine. Vaccines stimulate the body's own immune system to protect the person against infection or disease. later. WHO    \n",
       "\n",
       "                                          when mask  \\\n",
       "0  Whenever we are in contact with another person.    \n",
       "\n",
       "                                                                                  when medical attention  \\\n",
       "0  Medical attention should be sought according to the symptoms in the different levels of health care.    \n",
       "\n",
       "                                                                                                      why not vaccinate  \\\n",
       "0  They must be vaccinated since it is one of the most effective procedures for the prevention of infectious diseases.    \n",
       "\n",
       "                                                                                    why recommend vaccine  \n",
       "0  It is one of the most effective procedures for the prevention of infectious diseases, such as COVID-19  "
      ]
     },
     "execution_count": 12,
     "metadata": {},
     "output_type": "execute_result"
    }
   ],
   "source": [
    "\n",
    "survey_df = pd.read_csv('qc_output_en.csv')\n",
    "survey_df[:1]"
   ]
  },
  {
   "cell_type": "code",
   "execution_count": 13,
   "id": "cc15ccd9",
   "metadata": {},
   "outputs": [
    {
     "data": {
      "text/plain": [
       "4"
      ]
     },
     "execution_count": 13,
     "metadata": {},
     "output_type": "execute_result"
    }
   ],
   "source": [
    "survey_df.shape[0]\n",
    "#df.shape"
   ]
  },
  {
   "cell_type": "code",
   "execution_count": 14,
   "id": "9bc938b3",
   "metadata": {},
   "outputs": [
    {
     "name": "stdout",
     "output_type": "stream",
     "text": [
      "-----------------\n",
      "-----------------\n",
      "-----------------\n",
      "-----------------\n"
     ]
    }
   ],
   "source": [
    "from nltk.tokenize import sent_tokenize\n",
    "survey_df_sentences=[]\n",
    "\n",
    "\n",
    "for row in range(survey_df.shape[0]):\n",
    "    row_sentences=[]\n",
    "    for col in survey_df.columns:\n",
    "        sent = survey_df[col][row]\n",
    "        sentences = sent_tokenize(sent)\n",
    "        row_sentences.append(sentences)\n",
    "    print(\"-----------------\")\n",
    "    survey_df_sentences.append(row_sentences)\n",
    "    #sentences = sent_tokenize(sent)\n",
    "    #rf_df_sentences.append(sentences)\n",
    "    \n",
    "\n",
    "#rf_df_sentences"
   ]
  },
  {
   "cell_type": "code",
   "execution_count": 15,
   "id": "f419ee94",
   "metadata": {},
   "outputs": [
    {
     "data": {
      "text/plain": [
       "[['Flu-like symptoms plus loss of taste and smell.',\n",
       "  'Also pain in the lung area and shortness of breath'],\n",
       " ['Pain at the injection site'],\n",
       " ['By air with virus particles present in the environment and less frequently with virus particles on surfaces'],\n",
       " ['They prevent transmission to a certain extent if we have the virus by blocking a good part of the particles that we emit that may contain the virus.',\n",
       "  'If one does not have the virus, it helps to avoid the entry of similar particles to the mouth or nose.'],\n",
       " ['Yes it is possible but only to a certain extent depending on the type of mask for a limited time, but it is not advisable.'],\n",
       " ['About 3 to 4 days, but it can take up to 2 weeks'],\n",
       " ['The procedure for inoculating people with viruses or variants of genetic material to achieve antibody resistance'],\n",
       " ['Especially in closed public places, but it is also useful in outdoor public places'],\n",
       " ['If symptoms such as shortness of breath or lack of oxygenation occur'],\n",
       " ['You should be vaccinated to prevent the spread of a disease or lessen symptoms in the event of contracting a disease.',\n",
       "  'In addition to eventually eradicating the disease'],\n",
       " ['To prevent them from spreading or to end the pandemic']]"
      ]
     },
     "execution_count": 15,
     "metadata": {},
     "output_type": "execute_result"
    }
   ],
   "source": [
    "survey_df_sentences[2]"
   ]
  },
  {
   "cell_type": "code",
   "execution_count": 16,
   "id": "a5b356af",
   "metadata": {},
   "outputs": [
    {
     "data": {
      "text/plain": [
       "4"
      ]
     },
     "execution_count": 16,
     "metadata": {},
     "output_type": "execute_result"
    }
   ],
   "source": [
    "len(survey_df_sentences)"
   ]
  },
  {
   "cell_type": "markdown",
   "id": "4a7ed190",
   "metadata": {},
   "source": [
    "# Now Creating the Same report as report_output"
   ]
  },
  {
   "cell_type": "code",
   "execution_count": 17,
   "id": "9e527e07",
   "metadata": {},
   "outputs": [
    {
     "name": "stderr",
     "output_type": "stream",
     "text": [
      "2023-05-22 13:47:36.438057: I tensorflow/core/platform/cpu_feature_guard.cc:182] This TensorFlow binary is optimized to use available CPU instructions in performance-critical operations.\n",
      "To enable the following instructions: AVX2 FMA, in other operations, rebuild TensorFlow with the appropriate compiler flags.\n",
      "2023-05-22 13:47:37.369555: W tensorflow/compiler/tf2tensorrt/utils/py_utils.cc:38] TF-TRT Warning: Could not find TensorRT\n"
     ]
    }
   ],
   "source": [
    "from sentence_transformers import SentenceTransformer\n",
    "model_p = SentenceTransformer('sentence-transformers/all-mpnet-base-v2')"
   ]
  },
  {
   "cell_type": "code",
   "execution_count": 18,
   "id": "5ebdecc2",
   "metadata": {},
   "outputs": [
    {
     "name": "stdout",
     "output_type": "stream",
     "text": [
      "=====================================\n",
      "Question :  4. What are the common symptoms of COVID-19?\n",
      "Reference text :  Headache General weakness Cough Loss of smell and taste Vomiting Difficulty breathing\n",
      "0 1\n",
      "['COMMON SYMPTOMS Fever Cough General malaise Loss of taste or smell UN COMMON SYMPTOMS: Sore throat Headache Diarrhea Skin rash Irritated eyes SYMPTOMS - COMPLICATIONS: Difficulty breathing or dyspnea Lethargy Chest pain'] 1\n",
      "Similarity on bigger: tensor([[0.7371]])\n",
      "Similarity on bigger: tensor([[0.5480]])\n",
      "1 1\n",
      "['Headache General weakness Cough Loss of smell and taste Vomiting Difficulty breathing'] 1\n",
      "Similarity on bigger: tensor([[1.0000]])\n",
      "Similarity on bigger: tensor([[0.4816]])\n",
      "2 1\n",
      "['Flu-like symptoms plus loss of taste and smell.', 'Also pain in the lung area and shortness of breath'] 2\n",
      "Similarity on bigger: tensor([[0.7349, 0.5639]])\n",
      "Similarity on bigger: tensor([[0.5185, 0.4850]])\n",
      "3 1\n",
      "['Cough, fever, myalgia, dyspnea, malaise.'] 1\n",
      "Similarity on bigger: tensor([[0.6446]])\n",
      "Similarity on bigger: tensor([[0.6403]])\n",
      "=====================================\n",
      "Question :  19. Have you had any discomfort after vaccination?\n",
      "Reference text :  fever and muscle pain\n",
      "0 1\n",
      "['Yes, general malaise for 1 night .'] 1\n",
      "Similarity on bigger: tensor([[0.2565]])\n",
      "Similarity on bigger: tensor([[0.3622]])\n",
      "1 1\n",
      "['Yes, in the second vaccination I had a fever and muscle pain.'] 1\n",
      "Similarity on bigger: tensor([[0.5436]])\n",
      "Similarity on bigger: tensor([[0.7163]])\n",
      "2 1\n",
      "['Pain at the injection site'] 1\n",
      "Similarity on bigger: tensor([[0.3471]])\n",
      "Similarity on bigger: tensor([[0.5509]])\n",
      "3 1\n",
      "['Yes.', 'General malaise, fever, myalgia, headache.'] 2\n",
      "Similarity on bigger: tensor([[0.0018, 0.5426]])\n",
      "Similarity on bigger: tensor([[0.0846, 0.3207]])\n",
      "=====================================\n",
      "Question :  1. How is COVID 19 passed or transmitted to people? \n",
      "Reference text :  It is transmitted by respiratory droplets that contain the virus. \n",
      "0 1\n",
      "[' Direct contact, transmission by air and by droplets.'] 1\n",
      "Similarity on bigger: tensor([[0.5568]])\n",
      "Similarity on bigger: tensor([[0.4329]])\n",
      "1 1\n",
      "[' Through indirect or direct contact with secretions infected by the virus.'] 1\n",
      "Similarity on bigger: tensor([[0.7537]])\n",
      "Similarity on bigger: tensor([[0.7069]])\n",
      "2 1\n",
      "['By air with virus particles present in the environment and less frequently with virus particles on surfaces'] 1\n",
      "Similarity on bigger: tensor([[0.7287]])\n",
      "Similarity on bigger: tensor([[0.6495]])\n",
      "3 1\n",
      "['It is transmitted by respiratory droplets that contain the virus.'] 1\n",
      "Similarity on bigger: tensor([[1.0000]])\n",
      "Similarity on bigger: tensor([[0.7045]])\n",
      "=====================================\n",
      "Question :  10. How do masks help to avoid getting sick with COVID 19?\n",
      "Reference text :  They prevent transmission to a certain extent if we have the virus by blocking a good part of the particles that we emit that may contain the virus. If one does not have the virus, it helps to avoid the entry of similar particles to the mouth or nose. \n",
      "0 2\n",
      "[' Avoiding transmission by direct contact, transmission by air and by droplets'] 1\n",
      "Similarity on bigger: tensor([[0.4360]])\n",
      "Similarity on bigger: tensor([[0.2115]])\n",
      "Similarity on bigger: tensor([[0.2911]])\n",
      "Similarity on bigger: tensor([[0.2115]])\n",
      "1 2\n",
      "[' They prevent the transfer of contaminated secretions from one person to another.'] 1\n",
      "Similarity on bigger: tensor([[0.6524]])\n",
      "Similarity on bigger: tensor([[0.4386]])\n",
      "Similarity on bigger: tensor([[0.6490]])\n",
      "Similarity on bigger: tensor([[0.4386]])\n",
      "2 2\n",
      "['They prevent transmission to a certain extent if we have the virus by blocking a good part of the particles that we emit that may contain the virus.', 'If one does not have the virus, it helps to avoid the entry of similar particles to the mouth or nose.'] 2\n",
      "Similarity on bigger: tensor([[1.0000, 0.6550]])\n",
      "Similarity on bigger: tensor([[0.5029, 0.5709]])\n",
      "Similarity on bigger: tensor([[0.6550, 1.0000]])\n",
      "Similarity on bigger: tensor([[0.5029, 0.5709]])\n",
      "3 2\n",
      "['It is a barrier method that prevents virus particles from coming into contact with the respiratory tract.'] 1\n",
      "Similarity on bigger: tensor([[0.7007]])\n",
      "Similarity on bigger: tensor([[0.5200]])\n",
      "Similarity on bigger: tensor([[0.7582]])\n",
      "Similarity on bigger: tensor([[0.5200]])\n",
      "=====================================\n",
      "Question :  11. Is it possible to reuse the masks?\n",
      "Reference text :  Yes it is possible but only to a certain extent depending on the type of mask for a limited time, but it is not advisable.\n",
      "0 1\n",
      "[\" The use of a mask depends on the individual's site of exposure, preferably they should be use surgical masks or disposable KN95.\"] 1\n",
      "Similarity on bigger: tensor([[0.4907]])\n",
      "Similarity on bigger: tensor([[0.3554]])\n",
      "1 1\n",
      "['No.'] 1\n",
      "Similarity on bigger: tensor([[0.1468]])\n",
      "Similarity on bigger: tensor([[0.1959]])\n",
      "2 1\n",
      "['Yes it is possible but only to a certain extent depending on the type of mask for a limited time, but it is not advisable.'] 1\n",
      "Similarity on bigger: tensor([[1.0000]])\n",
      "Similarity on bigger: tensor([[0.6367]])\n",
      "3 1\n",
      "['No, each mask has a useful life time'] 1\n",
      "Similarity on bigger: tensor([[0.6372]])\n",
      "Similarity on bigger: tensor([[0.6840]])\n",
      "=====================================\n",
      "Question :  3. How long does it take between contact with a patient and the appearance of COVID-19 symptoms? \n",
      "Reference text :  The incubation period ranges from 1 to 14 days. The most common is that it is 5-6 days, and in some rare cases it has been reported that it is longer than 14 days.\n",
      "0 2\n",
      "['A range of 5 to 10 days with a common average of 7 days.'] 1\n",
      "Similarity on bigger: tensor([[0.5676]])\n",
      "Similarity on bigger: tensor([[0.3912]])\n",
      "Similarity on bigger: tensor([[0.8621]])\n",
      "Similarity on bigger: tensor([[0.3912]])\n",
      "1 2\n",
      "['Between six and fifteen days'] 1\n",
      "Similarity on bigger: tensor([[0.5600]])\n",
      "Similarity on bigger: tensor([[0.3829]])\n",
      "Similarity on bigger: tensor([[0.8329]])\n",
      "Similarity on bigger: tensor([[0.3829]])\n",
      "2 2\n",
      "['About 3 to 4 days, but it can take up to 2 weeks'] 1\n",
      "Similarity on bigger: tensor([[0.4495]])\n",
      "Similarity on bigger: tensor([[0.2926]])\n",
      "Similarity on bigger: tensor([[0.8626]])\n",
      "Similarity on bigger: tensor([[0.2926]])\n",
      "3 2\n",
      "['It can take between 2 to 14 days.'] 1\n",
      "Similarity on bigger: tensor([[0.4584]])\n",
      "Similarity on bigger: tensor([[0.3380]])\n",
      "Similarity on bigger: tensor([[0.8523]])\n",
      "Similarity on bigger: tensor([[0.3380]])\n",
      "=====================================\n",
      "Question :  16. What is vaccination?\n",
      "Reference text :  It is the process of acquired immunization, defense antibodies against the virus.\n",
      "0 1\n",
      "['Immunization is the process by which a person becomes immune or resistant to an infectious disease, usually through the administration of a vaccine.', \"Vaccines stimulate the body's own immune system to protect the person against infection or disease.\", 'later.', 'WHO'] 4\n",
      "Similarity on bigger: tensor([[ 0.7231,  0.5731, -0.0180,  0.0285]])\n",
      "Similarity on bigger: tensor([[0.6675, 0.5882, 0.0217, 0.0627]])\n",
      "1 1\n",
      "['It is the process of acquired immunization, defense antibodies against the virus.'] 1\n",
      "Similarity on bigger: tensor([[1.0000]])\n",
      "Similarity on bigger: tensor([[0.5913]])\n",
      "2 1\n",
      "['The procedure for inoculating people with viruses or variants of genetic material to achieve antibody resistance'] 1\n",
      "Similarity on bigger: tensor([[0.7198]])\n",
      "Similarity on bigger: tensor([[0.5005]])\n",
      "3 1\n",
      "['It is the process by which a vaccine is administered so that a person or animal becomes resistant or immune to a disease.'] 1\n",
      "Similarity on bigger: tensor([[0.8110]])\n",
      "Similarity on bigger: tensor([[0.6292]])\n",
      "=====================================\n",
      "Question :  8. When should a mask be used? \n",
      "Reference text :  Especially in closed public places, but it is also useful in outdoor public places.\n",
      "0 1\n",
      "['Whenever we are in contact with another person.'] 1\n",
      "Similarity on bigger: tensor([[0.3162]])\n",
      "Similarity on bigger: tensor([[0.1775]])\n",
      "1 1\n",
      "['All the time when leaving home.'] 1\n",
      "Similarity on bigger: tensor([[0.3316]])\n",
      "Similarity on bigger: tensor([[0.0477]])\n",
      "2 1\n",
      "['Especially in closed public places, but it is also useful in outdoor public places'] 1\n",
      "Similarity on bigger: tensor([[0.9961]])\n",
      "Similarity on bigger: tensor([[0.3023]])\n",
      "3 1\n",
      "['When we are in public places where social distancing cannot be maintained.'] 1\n",
      "Similarity on bigger: tensor([[0.4252]])\n",
      "Similarity on bigger: tensor([[0.2265]])\n",
      "=====================================\n",
      "Question :  6. When should medical attention be sought for a person suspected of being infected with COVID-19? \n",
      "Reference text :  If symptoms such as shortness of breath or lack of oxygenation occur\n",
      "0 1\n",
      "['Medical attention should be sought according to the symptoms in the different levels of health care.'] 1\n",
      "Similarity on bigger: tensor([[0.4329]])\n",
      "Similarity on bigger: tensor([[0.5539]])\n",
      "1 1\n",
      "['When the first symptoms have appeared and you suspect that you have been in contact with a positive COVID-19 patient.'] 1\n",
      "Similarity on bigger: tensor([[0.3360]])\n",
      "Similarity on bigger: tensor([[0.7176]])\n",
      "2 1\n",
      "['If symptoms such as shortness of breath or lack of oxygenation occur'] 1\n"
     ]
    },
    {
     "name": "stdout",
     "output_type": "stream",
     "text": [
      "Similarity on bigger: tensor([[1.0000]])\n",
      "Similarity on bigger: tensor([[0.3815]])\n",
      "3 1\n",
      "['Having a very high fever that does not settle to medication, having significant dyspnea.'] 1\n",
      "Similarity on bigger: tensor([[0.6292]])\n",
      "Similarity on bigger: tensor([[0.5402]])\n",
      "=====================================\n",
      "Question :  17. For what reasons should or should not people be vaccinated? \n",
      "Reference text :  The two main reasons to get vaccinated are to protect ourselves and to protect those around us. Because not everyone can get vaccinated, including very young babies, those who are seriously ill, or have certain allergies. They depend on others being vaccinated to make sure they too are safe from vaccine-preventable diseases.\n",
      "0 3\n",
      "['They must be vaccinated since it is one of the most effective procedures for the prevention of infectious diseases.'] 1\n",
      "Similarity on bigger: tensor([[0.7454]])\n",
      "Similarity on bigger: tensor([[0.6270]])\n",
      "Similarity on bigger: tensor([[0.6533]])\n",
      "Similarity on bigger: tensor([[0.6270]])\n",
      "Similarity on bigger: tensor([[0.7189]])\n",
      "Similarity on bigger: tensor([[0.6270]])\n",
      "1 3\n",
      "['Yes, they must be vaccinated, to stop the infections in the population.'] 1\n",
      "Similarity on bigger: tensor([[0.6664]])\n",
      "Similarity on bigger: tensor([[0.5745]])\n",
      "Similarity on bigger: tensor([[0.5722]])\n",
      "Similarity on bigger: tensor([[0.5745]])\n",
      "Similarity on bigger: tensor([[0.6725]])\n",
      "Similarity on bigger: tensor([[0.5745]])\n",
      "2 3\n",
      "['You should be vaccinated to prevent the spread of a disease or lessen symptoms in the event of contracting a disease.', 'In addition to eventually eradicating the disease'] 2\n",
      "Similarity on bigger: tensor([[0.8701, 0.3576]])\n",
      "Similarity on bigger: tensor([[0.7222, 0.3898]])\n",
      "Similarity on bigger: tensor([[0.6995, 0.2341]])\n",
      "Similarity on bigger: tensor([[0.7222, 0.3898]])\n",
      "Similarity on bigger: tensor([[0.6843, 0.3490]])\n",
      "Similarity on bigger: tensor([[0.7222, 0.3898]])\n",
      "3 3\n",
      "['People who have an allergy to any of the components of the vaccine or a state of immunosuppression should not be vaccinated without the permission of their treating physician.'] 1\n",
      "Similarity on bigger: tensor([[0.5697]])\n",
      "Similarity on bigger: tensor([[0.5150]])\n",
      "Similarity on bigger: tensor([[0.7201]])\n",
      "Similarity on bigger: tensor([[0.5150]])\n",
      "Similarity on bigger: tensor([[0.6119]])\n",
      "Similarity on bigger: tensor([[0.5150]])\n",
      "=====================================\n",
      "Question :  20.1. If you recommend vaccination or not, why or why not?\n",
      "Reference text :  It is the only effective way to stop pandemics.\n",
      "0 1\n",
      "['It is one of the most effective procedures for the prevention of infectious diseases, such as COVID-19'] 1\n",
      "Similarity on bigger: tensor([[0.6267]])\n",
      "Similarity on bigger: tensor([[0.4790]])\n",
      "1 1\n",
      "['There is no risk when getting vaccinated, vaccination is the most important preventive measure both for personal care'] 1\n",
      "Similarity on bigger: tensor([[0.3299]])\n",
      "Similarity on bigger: tensor([[0.6945]])\n",
      "2 1\n",
      "['To prevent them from spreading or to end the pandemic'] 1\n",
      "Similarity on bigger: tensor([[0.7166]])\n",
      "Similarity on bigger: tensor([[0.4586]])\n",
      "3 1\n",
      "['It is the only effective way to stop pandemics.'] 1\n",
      "Similarity on bigger: tensor([[1.0000]])\n",
      "Similarity on bigger: tensor([[0.5038]])\n"
     ]
    }
   ],
   "source": [
    "# We will create the same type of output but now instead of considering all the sentences,\n",
    "# will consider sentences individually\n",
    "\n",
    "import csv\n",
    "from sentence_transformers import  util\n",
    "\n",
    "# Creading a CSV writer \n",
    "outFile = open('report1.csv', 'w')\n",
    "writer_rep = csv.writer(outFile)\n",
    "\n",
    "# Middle portion\n",
    "\n",
    "lst_ref = []\n",
    "lst_pas = []\n",
    "\n",
    "#for col in qs_df.columns:\n",
    "for col in range(len(np_qs_df)):\n",
    "    # Clear it \n",
    "    lst_ref = []\n",
    "    lst_pas = []\n",
    "    \n",
    "    print(\"=====================================\")\n",
    "    print(\"Question : \", np_qs_df[col])\n",
    "    writer_rep.writerow(())\n",
    "    writer_rep.writerow(('Question',  \n",
    "                     np_qs_df[col], \n",
    "                     '',\n",
    "                     '',\n",
    "                     ''))\n",
    "    print(\"Reference text : \", np_ref_df[col])\n",
    "\n",
    "    writer_rep.writerow(('Reference text',  \n",
    "                     np_ref_df[col], \n",
    "                     '',\n",
    "                     '',\n",
    "                     ''))\n",
    "    writer_rep.writerow(())\n",
    "    \n",
    "    writer_rep.writerow(('Serial', \n",
    "                     'Reference text', \n",
    "                     'User Text', \n",
    "                     'Ref Sim Score',\n",
    "                     'Qs Sim Score'))\n",
    "    \n",
    "    for row in range(len(survey_df_sentences)):\n",
    "        \n",
    "        print(row, len(rf_df_sentences[col]))\n",
    "        lst_pas = survey_df_sentences[row][col]\n",
    "        print(survey_df_sentences[row][col], len(survey_df_sentences[row][col]))\n",
    "        \n",
    "        \n",
    "        for ref_part in range(len(rf_df_sentences[col])):\n",
    "            q_part_txt= rf_df_sentences[col][ref_part]\n",
    "            \n",
    "            #     # Getting the embedding\n",
    "            q_emb = model_p.encode(q_part_txt)\n",
    "            p_emb = model_p.encode(lst_pas)\n",
    "            #     # Printing the similarity score \n",
    "            print(\"Similarity on bigger:\", util.pytorch_cos_sim(q_emb, p_emb))\n",
    "            sim_score = util.pytorch_cos_sim(q_emb, p_emb).cpu().detach().numpy()[0]\n",
    "            \n",
    "            #  Getting the embedding for comparing similarity with the question\n",
    "            q_emb_Q = model_p.encode(np_qs_df[col])\n",
    "            #     # Printing the similarity score \n",
    "            print(\"Similarity on bigger:\", util.pytorch_cos_sim(q_emb_Q, p_emb))\n",
    "            sim_score_qs = util.pytorch_cos_sim(q_emb_Q, p_emb).cpu().detach().numpy()[0]\n",
    "            \n",
    "            i = 0 \n",
    "            \n",
    "            # Writing in the File\n",
    "            for pass_text in lst_pas:\n",
    "                writer_rep.writerow((row+1, \n",
    "                             q_part_txt, \n",
    "                             pass_text, \n",
    "                             sim_score[i],\n",
    "                             sim_score_qs[i]))\n",
    "                i = i + 1\n",
    "        \n",
    "# Closing the output file\n",
    "outFile.close()"
   ]
  },
  {
   "cell_type": "code",
   "execution_count": 19,
   "id": "2da5376c",
   "metadata": {},
   "outputs": [],
   "source": [
    "import pickle\n",
    "def mkPikle(filename, content):\n",
    "    with open(filename, 'wb') as f:\n",
    "        pickle.dump(content, f)\n",
    "        f.close()\n",
    "        \n",
    "def rdPickle(filename):\n",
    "    with open(filename, 'rb') as f:\n",
    "        return pickle.load(f)"
   ]
  },
  {
   "cell_type": "code",
   "execution_count": 34,
   "id": "744a4ac0",
   "metadata": {},
   "outputs": [],
   "source": [
    "mkPikle('pickle/survey_df_sentences.pkl', survey_df_sentences)\n",
    "mkPikle('pickle/rf_df_sentences.pkl', rf_df_sentences)\n",
    "mkPikle('pickle/np_qs_df.pkl', np_qs_df)\n",
    "mkPikle('pickle/np_ref_df.pkl', np_ref_df)"
   ]
  },
  {
   "cell_type": "code",
   "execution_count": 3,
   "id": "76d73553",
   "metadata": {},
   "outputs": [],
   "source": [
    "survey_df_sentences = rdPickle('pickle/survey_df_sentences.pkl')\n",
    "rf_df_sentences     = rdPickle('pickle/rf_df_sentences.pkl')\n",
    "np_qs_df            = rdPickle('pickle/np_qs_df.pkl')\n",
    "np_ref_df           = rdPickle('pickle/np_ref_df.pkl')"
   ]
  },
  {
   "cell_type": "markdown",
   "id": "4182d9cb",
   "metadata": {},
   "source": [
    "# Comparing with the Questions"
   ]
  },
  {
   "cell_type": "code",
   "execution_count": null,
   "id": "4bff3e0d",
   "metadata": {},
   "outputs": [],
   "source": []
  }
 ],
 "metadata": {
  "kernelspec": {
   "display_name": "Python 3 (ipykernel)",
   "language": "python",
   "name": "python3"
  },
  "language_info": {
   "codemirror_mode": {
    "name": "ipython",
    "version": 3
   },
   "file_extension": ".py",
   "mimetype": "text/x-python",
   "name": "python",
   "nbconvert_exporter": "python",
   "pygments_lexer": "ipython3",
   "version": "3.9.5"
  }
 },
 "nbformat": 4,
 "nbformat_minor": 5
}
